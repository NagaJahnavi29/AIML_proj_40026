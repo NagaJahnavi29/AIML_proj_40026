{
  "nbformat": 4,
  "nbformat_minor": 0,
  "metadata": {
    "colab": {
      "provenance": []
    },
    "kernelspec": {
      "name": "python3",
      "display_name": "Python 3"
    },
    "language_info": {
      "name": "python"
    }
  },
  "cells": [
    {
      "cell_type": "markdown",
      "source": [
        "Uninformed Search technique (BFS,DFA,IDDFS)"
      ],
      "metadata": {
        "id": "NRFbZg9wOKfs"
      }
    },
    {
      "cell_type": "code",
      "source": [
        "def dfs(g, start):\n",
        "    visited = set()\n",
        "    stack = [start]\n",
        "\n",
        "    while stack:\n",
        "        node = stack.pop()\n",
        "        if node not in visited:\n",
        "            print(node)\n",
        "            visited.add(node)\n",
        "            stack.extend(reversed(g[node]))\n",
        "g = {\n",
        "    1: [2, 3],\n",
        "    2: [1, 4, 5],\n",
        "    3: [1, 5],\n",
        "    4: [2, 6],\n",
        "    5: [2, 3],\n",
        "    6: [4]\n",
        "}\n",
        "dfs(g, 1)"
      ],
      "metadata": {
        "colab": {
          "base_uri": "https://localhost:8080/"
        },
        "id": "BdY8WEeLOcth",
        "outputId": "7435ac64-0dd4-4db6-cf28-276e9ca88c1e"
      },
      "execution_count": 14,
      "outputs": [
        {
          "output_type": "stream",
          "name": "stdout",
          "text": [
            "1\n",
            "2\n",
            "4\n",
            "6\n",
            "5\n",
            "3\n"
          ]
        }
      ]
    },
    {
      "cell_type": "code",
      "source": [
        "from collections import deque\n",
        "\n",
        "def bfs(g, start):\n",
        "    visited = set()\n",
        "    queue = deque([start])\n",
        "    while queue:\n",
        "        node = queue.popleft()\n",
        "        if node not in visited:\n",
        "            print(node)\n",
        "            visited.add(node)\n",
        "            for n in g[node]:\n",
        "                if n not in visited:\n",
        "                    queue.append(n)\n",
        "g = {\n",
        "    1: [2, 3],\n",
        "    2: [1, 4, 5],\n",
        "    3: [1, 5],\n",
        "    4: [2, 6],\n",
        "    5: [2, 3],\n",
        "    6: [4]\n",
        "}\n",
        "bfs(g, 1)"
      ],
      "metadata": {
        "colab": {
          "base_uri": "https://localhost:8080/"
        },
        "id": "6huOLevFO0x_",
        "outputId": "b824605c-6b80-4111-809b-0037db27b2f2"
      },
      "execution_count": 15,
      "outputs": [
        {
          "output_type": "stream",
          "name": "stdout",
          "text": [
            "1\n",
            "2\n",
            "3\n",
            "4\n",
            "5\n",
            "6\n"
          ]
        }
      ]
    },
    {
      "cell_type": "code",
      "source": [
        "def iddfs(g, start, max_depth):\n",
        "    def dfs(node, depth, visited):\n",
        "        if depth == 0:\n",
        "            return\n",
        "        print(node)\n",
        "        visited.add(node)\n",
        "        for neighbor in g[node]:\n",
        "            if neighbor not in visited:\n",
        "                dfs(neighbor, depth - 1, visited)\n",
        "\n",
        "    for depth in range(1, max_depth + 1):\n",
        "        print(f\"Depth {depth}:\")\n",
        "        visited = set()\n",
        "        dfs(start, depth, visited)\n",
        "        print()\n",
        "g = {\n",
        "    1: [2, 3],\n",
        "    2: [1, 4, 5],\n",
        "    3: [1, 5],\n",
        "    4: [2, 6],\n",
        "    5: [2, 3],\n",
        "    6: [4]\n",
        "}\n",
        "iddfs(g, 1, 3)"
      ],
      "metadata": {
        "colab": {
          "base_uri": "https://localhost:8080/"
        },
        "id": "z2nQK6DNO8Qr",
        "outputId": "c3a1767c-2543-4f4a-a6f9-1321ee70ed40"
      },
      "execution_count": 16,
      "outputs": [
        {
          "output_type": "stream",
          "name": "stdout",
          "text": [
            "Depth 1:\n",
            "1\n",
            "\n",
            "Depth 2:\n",
            "1\n",
            "2\n",
            "3\n",
            "\n",
            "Depth 3:\n",
            "1\n",
            "2\n",
            "4\n",
            "5\n",
            "3\n",
            "\n"
          ]
        }
      ]
    },
    {
      "cell_type": "markdown",
      "source": [
        "Informed search technique (A*, Best first search)"
      ],
      "metadata": {
        "id": "cgIK84csPE-K"
      }
    },
    {
      "cell_type": "code",
      "source": [
        "import heapq\n",
        "def astar(graph, start, goal, h):\n",
        "    queue = [(h[start], start, 0)]\n",
        "    visited = set()\n",
        "    while queue:\n",
        "        f, node, g = heapq.heappop(queue)\n",
        "        if node in visited:\n",
        "            continue\n",
        "        print(node)\n",
        "        visited.add(node)\n",
        "        if node == goal:\n",
        "            break\n",
        "        for neighbor, cost in graph[node]:\n",
        "            if neighbor not in visited:\n",
        "                new_g = g + cost\n",
        "                new_f = new_g + h[neighbor]\n",
        "                heapq.heappush(queue, (new_f, neighbor, new_g))\n",
        "graph = {\n",
        "    1: [(2, 1), (3, 4)],\n",
        "    2: [(4, 1), (5, 4)],\n",
        "    3: [(5, 2)],\n",
        "    4: [(6, 2)],\n",
        "    5: [(6, 1)],\n",
        "    6: []\n",
        "}\n",
        "h = {\n",
        "    1: 5,\n",
        "    2: 3,\n",
        "    3: 2,\n",
        "    4: 2,\n",
        "    5: 1,\n",
        "    6: 0\n",
        "}\n",
        "astar(graph, 1, 6, h)"
      ],
      "metadata": {
        "colab": {
          "base_uri": "https://localhost:8080/"
        },
        "id": "WfjqYqX-PQQj",
        "outputId": "a1a904b0-2f39-4dde-f44d-67e9e633941d"
      },
      "execution_count": 17,
      "outputs": [
        {
          "output_type": "stream",
          "name": "stdout",
          "text": [
            "1\n",
            "2\n",
            "4\n",
            "6\n"
          ]
        }
      ]
    },
    {
      "cell_type": "code",
      "source": [
        "import heapq\n",
        "def best_first_search(graph, start, goal, h):\n",
        "    queue = [(h[start], start)]\n",
        "    visited = set()\n",
        "\n",
        "    while queue:\n",
        "        _, node = heapq.heappop(queue)\n",
        "        if node in visited:\n",
        "            continue\n",
        "        print(node)\n",
        "        visited.add(node)\n",
        "        if node == goal:\n",
        "            break\n",
        "        for neighbor, _ in graph[node]:\n",
        "            if neighbor not in visited:\n",
        "                heapq.heappush(queue, (h[neighbor], neighbor))\n",
        "graph = {\n",
        "    1: [(2, 1), (3, 4)],\n",
        "    2: [(4, 1), (5, 4)],\n",
        "    3: [(5, 2)],\n",
        "    4: [(6, 2)],\n",
        "    5: [(6, 1)],\n",
        "    6: []\n",
        "}\n",
        "h = {\n",
        "    1: 5,\n",
        "    2: 3,\n",
        "    3: 2,\n",
        "    4: 2,\n",
        "    5: 1,\n",
        "    6: 0\n",
        "}\n",
        "best_first_search(graph, 1, 6, h)"
      ],
      "metadata": {
        "colab": {
          "base_uri": "https://localhost:8080/"
        },
        "id": "PTMBps3tPVWs",
        "outputId": "6410393c-8acc-4fc3-a76c-36ad0b72470c"
      },
      "execution_count": 18,
      "outputs": [
        {
          "output_type": "stream",
          "name": "stdout",
          "text": [
            "1\n",
            "3\n",
            "5\n",
            "6\n"
          ]
        }
      ]
    },
    {
      "cell_type": "markdown",
      "source": [
        "Adversal search technique(Alpha-beta, MIN-MAX)"
      ],
      "metadata": {
        "id": "Xg1Xh6xyPaLm"
      }
    },
    {
      "cell_type": "code",
      "source": [
        "import math\n",
        "\n",
        "MIN = -math.inf\n",
        "MAX = math.inf\n",
        "\n",
        "def alpha_beta(depth, node_index, maximizing_player, values, alpha, beta):\n",
        "    if depth == 3:\n",
        "        return values[node_index]\n",
        "\n",
        "    if maximizing_player:\n",
        "        max_eval = MIN\n",
        "        for i in range(2):\n",
        "            eval = alpha_beta(depth + 1, node_index * 2 + i, False, values, alpha, beta)\n",
        "            max_eval = max(max_eval, eval)\n",
        "            alpha = max(alpha, eval)\n",
        "            if beta <= alpha:\n",
        "                break\n",
        "        return max_eval\n",
        "    else:\n",
        "        min_eval = MAX\n",
        "        for i in range(2):\n",
        "            eval = alpha_beta(depth + 1, node_index * 2 + i, True, values, alpha, beta)\n",
        "            min_eval = min(min_eval, eval)\n",
        "            beta = min(beta, eval)\n",
        "            if beta <= alpha:\n",
        "                break\n",
        "        return min_eval\n",
        "\n",
        "values = [3, 5, 6, 9, 1, 2, 0, -1]\n",
        "result = alpha_beta(0, 0, True, values, MIN, MAX)\n",
        "print(\"The optimal value is:\", result)"
      ],
      "metadata": {
        "colab": {
          "base_uri": "https://localhost:8080/"
        },
        "id": "mkJPIG5_PpJp",
        "outputId": "0e67b51b-ef4e-4249-edb8-050bb7b4e920"
      },
      "execution_count": 19,
      "outputs": [
        {
          "output_type": "stream",
          "name": "stdout",
          "text": [
            "The optimal value is: 5\n"
          ]
        }
      ]
    },
    {
      "cell_type": "code",
      "source": [
        "def minimax(depth, is_maximizing, values):\n",
        "    if depth == len(values):\n",
        "        return values[depth - 1]\n",
        "\n",
        "    if is_maximizing:\n",
        "        best_value = float('-inf')\n",
        "        for i in range(2):\n",
        "            val = minimax(depth + 1, False, values)\n",
        "            best_value = max(best_value, val)\n",
        "        return best_value\n",
        "    else:\n",
        "        best_value = float('inf')\n",
        "        for i in range(2):\n",
        "            val = minimax(depth + 1, True, values)\n",
        "            best_value = min(best_value, val)\n",
        "        return best_value\n",
        "\n",
        "values = [3, 12, 8, 2, 4, 6, 14, 5]\n",
        "result = minimax(1, True, values)\n",
        "print(\"The optimal value is:\", result)"
      ],
      "metadata": {
        "colab": {
          "base_uri": "https://localhost:8080/"
        },
        "id": "47S1_eA-PuGr",
        "outputId": "1484e04b-b092-4ad2-bad9-8e81563465a2"
      },
      "execution_count": 20,
      "outputs": [
        {
          "output_type": "stream",
          "name": "stdout",
          "text": [
            "The optimal value is: 5\n"
          ]
        }
      ]
    }
  ]
}